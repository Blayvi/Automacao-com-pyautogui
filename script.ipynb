{
 "cells": [
  {
   "cell_type": "markdown",
   "metadata": {},
   "source": [
    "### Colocar as informações da Planilha em um site para cadastro"
   ]
  },
  {
   "cell_type": "code",
   "execution_count": null,
   "metadata": {},
   "outputs": [],
   "source": [
    "import time \n",
    "import pyautogui as pg\n",
    "import pyperclip as pc\n",
    "import openpyxl\n",
    "\n",
    "# Entrar na planilha\n",
    "workbook = openpyxl.load_workbook('produtos_ficticios.xlsx')\n",
    "\n",
    "# Acessando a planilha desejada\n",
    "sheet_produtos = workbook['Produtos']\n",
    "\n",
    "for linha in sheet_produtos.iter_rows(min_row=2):     # iter_rows = irei passar por cada linha da planilha de acordo com algo  # como temos caracteres especiais precisamos do pyperclip \n",
    "    \n",
    "    nome_produto = linha[0].value\n",
    "    pc.copy(nome_produto)\n",
    "    pg.click(1169,351, duration=1)\n",
    "    pg.hotkey('ctrl', 'v')\n",
    "    \n",
    "    descricao_produto = linha[1].value\n",
    "    pc.copy(descricao_produto)\n",
    "    pg.click(1193,443,duration=1)\n",
    "    pg.hotkey('ctrl', 'v')\n",
    "\n",
    "\n",
    "    categoria_produto = linha[2].value\n",
    "    pc.copy(categoria_produto)\n",
    "    pg.click(1172,570,duration=1)\n",
    "    pg.hotkey('ctrl', 'v')\n",
    "    \n",
    "    codigo_produto = linha[3].value\n",
    "    pc.copy(codigo_produto)\n",
    "    pg.click(1135,650,duration=1)\n",
    "    pg.hotkey('ctrl', 'v')\n",
    "\n",
    "    peso_produto = linha[4].value\n",
    "    pc.copy(peso_produto)\n",
    "    pg.click(1151,757,duration=1)\n",
    "    pg.hotkey('ctrl', 'v')\n",
    "    \n",
    "    dimensao_produto = linha[5].value\n",
    "    pc.copy(dimensao_produto)\n",
    "    pg.click(1141,839,duration=1)\n",
    "    pg.hotkey('ctrl', 'v')\n",
    "\n",
    "    pg.click(1149,882, duration=1)\n",
    "\n",
    "    time.sleep(3)\n"
   ]
  },
  {
   "cell_type": "markdown",
   "metadata": {},
   "source": [
    "### Para pegar a posição do mouse\n"
   ]
  },
  {
   "cell_type": "code",
   "execution_count": null,
   "metadata": {},
   "outputs": [],
   "source": [
    "time.sleep(2)\n",
    "pg.position()"
   ]
  }
 ],
 "metadata": {
  "kernelspec": {
   "display_name": "Python 3",
   "language": "python",
   "name": "python3"
  },
  "language_info": {
   "name": "python",
   "version": "3.11.4"
  }
 },
 "nbformat": 4,
 "nbformat_minor": 2
}
